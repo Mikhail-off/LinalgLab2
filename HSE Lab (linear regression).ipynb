{
 "cells": [
  {
   "cell_type": "code",
   "execution_count": 447,
   "metadata": {
    "collapsed": false
   },
   "outputs": [],
   "source": [
    "def get_vector(X, y):\n",
    "    return np.linalg.inv(X.T.dot(X)).dot(X.T).dot(y.reshape(len(y), 1))\n",
    "\n",
    "def error(X, coefficients, y):\n",
    "    return sum(\n",
    "               map(\n",
    "                   lambda x: x**2,\n",
    "                   X.dot(coefficients.reshape(len(coefficients), 1)).reshape(len(y)) - y.reshape(len(y))\n",
    "                  )\n",
    "              ) / len(y)"
   ]
  },
  {
   "cell_type": "markdown",
   "metadata": {
    "deletable": true,
    "editable": true
   },
   "source": [
    "# Лабораторная работа 2\n",
    "\n",
    "## Линейная регрессия"
   ]
  },
  {
   "cell_type": "markdown",
   "metadata": {
    "deletable": true,
    "editable": true
   },
   "source": [
    "### Метод наименьших квадратов: постановка задачи\n",
    "\n",
    "Рассмотрим систему уравнений $Xa = y$, в которой $a$ --- столбец неизвестных. Её можно переписать в векторном виде\n",
    "$$x_1 a_1 + x_2 a_2 + \\ldots + x_k a_k = y,$$\n",
    "где $x_1,\\ldots,x_n$ --- столбцы матрицы $X$. Таким образом, решить исходную систему означает найти линейную комбинацию векторов $x_1,\\ldots,x_n$, равную правой части. Но что делать, если такой линейной комбинации не существует? Геометрически это означает, что вектор $y$ не лежит в подпространстве $U = \\langle x_1,\\ldots, x_k\\rangle$. В этом случае мы можем найти *псевдорешение*: вектор коэффициентов $\\hat{a}$, для которого линейная комбинация $x_1 \\hat{a}_1 + x_2 \\hat{a}_2 + \\ldots + x_k \\hat{a}_k$ хоть и не равна в точности $y$, но является наилучшим приближением --- то есть ближайшей к $y$ точкой $\\hat{y}$ подпространства $U$ (иными словами, ортогональной проекцией $y$ на это подпростанство). Итак, цель наших исканий можно сформулировать двумя эквивалентными способами:\n",
    "\n",
    "1. Найти вектор $\\hat{a}$, для которого длина разности $|X\\hat{a} - y|$ минимальна (отсюда название \"метод наименьших квадратов\");\n",
    "2. Найти ортогональную проекцию $\\hat{y}$ вектора $y$ на подпространство $U$ и представить её в виде $X\\hat{a}$.\n",
    "\n",
    "Далее мы будем предполагать, что векторы $x_1,\\ldots,x_n$ линейно независимы (если нет, то сначала имеет смысл выделить максимальную линейно независимую подсистему).\n",
    "\n",
    "На лекциях было показано, что проекция вектора $y$ на подпространство $U = \\langle x_1,\\ldots, x_k\\rangle$, записывается в виде\n",
    "$$\\hat{y} = X\\left(X^TX\\right)^{-1}X^Ty,$$\n",
    "и, соответственно, искомый вектор $\\hat{a}$ равен\n",
    "$$\\hat{a} = \\left(X^TX\\right)^{-1}X^Ty.$$"
   ]
  },
  {
   "cell_type": "markdown",
   "metadata": {
    "deletable": true,
    "editable": true
   },
   "source": [
    "### Задача линейной регрессии\n",
    "\n",
    "Начнём с примера. Допустим, вы хотите найти зависимость среднего балла S студента ФКН от его роста H, веса W, длины волос L и N - количества часов, которые он ежедневно посвящает учёбе. Представьте, что мы измерили все эти параметры для $n$ студентов и получили наборы значений: $S_1,\\ldots, S_n$, $H_1,\\ldots, H_n$ и так далее.\n",
    "\n",
    "Тут можно подбирать много разных умных моделей, но начать имеет смысл с самой простой, линейной:\n",
    "$$S = a_1H + a_2W + a_3L + a_4N + a_5.$$\n",
    "Конечно, строгой линейной зависимости нет (иначе можно было бы радостно упразднить экзамены), но мы можем попробовать подобрать коэффициенты $a_1, a_2, a_3, a_4, a_5$, для которых отклонение правой части от наблюдаемых было бы наименьшим:\n",
    "$$\\sum_{i=1}^n\\left(S_i - ( a_1H_i + a_2W_i + a_3L_i + a_4N_i + a_5)\\right)^2 \\longrightarrow \\min$$\n",
    "И сразу видно, что мы получили задачу на метод наименьших квадратов! А именно, у нас\n",
    "$$X =\n",
    "\\begin{pmatrix}\n",
    "H_1 & W_1 & L_1 & N_1 & 1\\\\\n",
    "H_2 & W_2 & L_2 & N_2 & 1\\\\\n",
    "\\dots & \\dots & \\dots & \\dots & \\dots \\\\\n",
    "H_n & W_n & L_n & N_n & 1\n",
    "\\end{pmatrix},\\qquad y=\n",
    "\\begin{pmatrix}\n",
    "S_1\\\\ S_2\\\\ \\vdots \\\\ S_n\n",
    "\\end{pmatrix}$$\n",
    "\n",
    "Решая эту задачу с помощью уже известных формул, получаем оценки коэффициентов $\\hat{a}_i$ ($i = 1\\ldots,5$)."
   ]
  },
  {
   "cell_type": "markdown",
   "metadata": {
    "deletable": true,
    "editable": true
   },
   "source": [
    "Теперь проговорим общую постановку задачи линейной регрессии. У нас есть $k$ переменных $x_1,\\ldots,x_k$ (\"регрессоров\"), через которые мы хотим выразить \"объясняемую переменную\" $y$:\n",
    "$$y = a_1x_1 + a_2x_2 + \\ldots + a_kx_k$$\n",
    "Значения всех переменных мы измерили $n$ раз (у $n$ различных объектов,  в $n$ различных моментов времени - это зависит от задачи). Подставим эти данные в предыдущее равенство:\n",
    "$$\\begin{pmatrix}\n",
    "y_1\\\\ y_2 \\\\ \\vdots \\\\ y_n\n",
    "\\end{pmatrix} = \n",
    "a_1\\begin{pmatrix}\n",
    "x_{11} \\\\ x_{21} \\\\ \\vdots \\\\ x_{n1} \\end{pmatrix} + a_2\\begin{pmatrix}\n",
    "x_{12} \\\\ x_{22} \\\\ \\vdots \\\\ x_{n2} \\end{pmatrix} + \\ldots + a_k\\begin{pmatrix}\n",
    "x_{1k} \\\\ x_{2k} \\\\ \\vdots \\\\ x_{nk} \\end{pmatrix}$$\n",
    "(здесь $x_{ij}$ - это значение $j$-го признака на $i$-м измерении). Это удобно переписать в матричном виде:\n",
    "$$\\begin{pmatrix}\n",
    "x_{11} & x_{12} & \\ldots & x_{1k}\\\\\n",
    "x_{21} & x_{22} & \\ldots & x_{2k}\\\\\n",
    "\\dots & \\dots & \\dots & \\dots\\\\\n",
    "x_{n1} & x_{n2} & \\ldots & x_{nk}\n",
    "\\end{pmatrix} \\cdot\n",
    "\\begin{pmatrix}\n",
    "a_1 \\\\ a_2 \\\\ \\vdots \\\\ a_k\n",
    "\\end{pmatrix} = \n",
    "\\begin{pmatrix}\n",
    "y_1 \\\\ y_2 \\\\ \\vdots \\\\ y_n\n",
    "\\end{pmatrix}$$\n",
    "или коротко $Xa = y$. Поскольку на практике эта система уравнений зачастую не имеет решения (ибо зависимости в жизни редко бывают действительно линейными), методом наименьших квадратов ищется псевдорешение."
   ]
  },
  {
   "cell_type": "markdown",
   "metadata": {
    "deletable": true,
    "editable": true
   },
   "source": [
    "### Оценка качества. Обобщающая способность. Обучение и тест \n",
    "\n",
    "После того, как вы построили регрессию и получили какую-то зависимость объясняемой переменной от регрессоров, настаёт время оценить качество регрессии. Есть много разных функционалов качества; мы пока будем говорить только о самом простом и очевидном из них: о среднеквадратичной ошибке (mean square error). Она равна\n",
    "$$\\frac1{n}|X\\hat{a} - y|^2 = \\frac1{n}\\sum_{i=1}^n\\left(\\hat{a}_1x_{i1} + \\hat{a}_2x_{i2} + \\ldots + \\hat{a}_kx_{ik} - y_i\\right)^2$$\n",
    "\n",
    "В целом, хочется искать модели с наименьшей mean square error на имеющихся данных. Однако слишком фанатичная гонка за минимизацией ошибки может привести к печальным последствиям. Например, если мы приближаем функцию одной переменной по значениям в $n$ точках, то наилучшей с точки зрения этой ошибки моделью будет многочлен $(n-1)$-й степени, для которого эта ошибка будет равна нулю.  Тем не менее, вряд ли истинная зависимость имеет вид многочлена большой степени. Более того, значения вам скорее всего даны с погрешностью, то есть вы подогнали вашу модель под свои зашумлённые данные, но на любых других данных (то есть в других точках) точность, скорее всего, окажется совсем не такой хорошей. Этот эффект называют **переобучением**; говорят также, что **обобщающая способность** модели оказалась скверной.\n",
    "\n",
    "Чтобы не попадать в эту ловушку, данные обычно делят на обучающие (по которым строят модель и оценивают коэффициенты) и тестовые. Лучшей стоит счесть ту модель, для которой значение функционала качества будет меньше."
   ]
  },
  {
   "cell_type": "markdown",
   "metadata": {
    "deletable": true,
    "editable": true
   },
   "source": [
    "### Задание 1. Метод наименьших квадратов (4 балла)"
   ]
  },
  {
   "cell_type": "markdown",
   "metadata": {
    "deletable": true,
    "editable": true
   },
   "source": [
    "Скачайте файлы ``train.txt`` и ``test.txt``. В первом из них находится обучающая выборка, а во втором - тестовая. Каждый из файлов содержит два столбца чисел, разделённых пробелами: в первом - $n$ точек (значения аргумента $x$), во втором - значения некоторой функции $y = f(x)$ в этих точках, искажённые случайным шумом. Ваша задача - по обучающей выборке подобрать функцию $y = g(x)$, пристойно приближающую неизвестную вам зависимость."
   ]
  },
  {
   "cell_type": "markdown",
   "metadata": {
    "deletable": true,
    "editable": true
   },
   "source": [
    "Загрузим обучающие и тестовые данные (не забудьте ввести правильный путь!)."
   ]
  },
  {
   "cell_type": "code",
   "execution_count": 448,
   "metadata": {
    "collapsed": false,
    "deletable": true,
    "editable": true
   },
   "outputs": [],
   "source": [
    "import numpy as np"
   ]
  },
  {
   "cell_type": "code",
   "execution_count": 449,
   "metadata": {
    "collapsed": false,
    "deletable": true,
    "editable": true
   },
   "outputs": [],
   "source": [
    "data_train = np.loadtxt('train.txt', delimiter=',')\n",
    "data_test = np.loadtxt('test.txt', delimiter=',')"
   ]
  },
  {
   "cell_type": "markdown",
   "metadata": {
    "deletable": true,
    "editable": true
   },
   "source": [
    "Разделим значения $x$ и $y$"
   ]
  },
  {
   "cell_type": "code",
   "execution_count": 450,
   "metadata": {
    "collapsed": false,
    "deletable": true,
    "editable": true
   },
   "outputs": [],
   "source": [
    "x_train = data_train[:, 0]\n",
    "y_train = data_train[:, 1]\n",
    "\n",
    "x_test = data_test[:, 0]\n",
    "y_test = data_test[:, 1]\n",
    "# Сделайте то же для тестовой выборки"
   ]
  },
  {
   "cell_type": "markdown",
   "metadata": {
    "deletable": true,
    "editable": true
   },
   "source": [
    "Найдите с помощью метода наименьших квадратов линейную функцию ($y = kx + b$), наилучшим образом приближающую неизвестную зависимость. Полезные функции: ``numpy.ones(n)`` для создания массива из единиц длины $n$ и ``numpy.concatenate((А, В), axis=1)`` для слияния двух матриц по столбцам (пара ``А`` и ``В`` превращается в матрицу ``[A B]``)."
   ]
  },
  {
   "cell_type": "code",
   "execution_count": 451,
   "metadata": {
    "collapsed": false,
    "deletable": true,
    "editable": true
   },
   "outputs": [
    {
     "name": "stdout",
     "output_type": "stream",
     "text": [
      "f(x) = 2.279x + 4.433\n"
     ]
    }
   ],
   "source": [
    "# Составим матрицу X\n",
    "X = np.concatenate((x_train.reshape(len(x_train), 1), np.ones(len(x_train)).reshape(len(x_train), 1)), axis=1)\n",
    "# Найдем a_, k_ и b_\n",
    "a_ = get_vector(X, y_train)\n",
    "k_, b_ = a_[0, 0], a_[1, 0]\n",
    "print('f(x) = ', round(k_, 3), 'x + ', round(b_, 3), sep='')"
   ]
  },
  {
   "cell_type": "markdown",
   "metadata": {
    "deletable": true,
    "editable": true
   },
   "source": [
    "Нарисуйте на плоскости точки $(x_i, y_i)$ и полученную линейную функцию. Глядя на данные, подумайте, многочленом какой степени можно было бы лучше всего приблизить эту функцию. Найдите этот многочлен и нарисуйте его график."
   ]
  },
  {
   "cell_type": "code",
   "execution_count": 452,
   "metadata": {
    "collapsed": false,
    "deletable": true,
    "editable": true
   },
   "outputs": [
    {
     "data": {
      "text/plain": [
       "<matplotlib.legend.Legend at 0x7f1bf25e7d68>"
      ]
     },
     "execution_count": 452,
     "metadata": {},
     "output_type": "execute_result"
    },
    {
     "data": {
      "image/png": "[encoded data removed]",
      "text/plain": [
       "<matplotlib.figure.Figure at 0x7f1bf28ca080>"
      ]
     },
     "metadata": {},
     "output_type": "display_data"
    }
   ],
   "source": [
    "import matplotlib.pyplot as plt\n",
    "%matplotlib inline\n",
    "plt.figure(figsize=(8, 6))\n",
    "plt.plot(x_train, y_train,'ro', color='blue', label='train dots')\n",
    "plt.plot(x_train, list(map(lambda x: x * k_ + b_, x_train)), color='red', label='result function')\n",
    "plt.legend()"
   ]
  },
  {
   "cell_type": "code",
   "execution_count": 453,
   "metadata": {
    "collapsed": false
   },
   "outputs": [
    {
     "data": {
      "text/plain": [
       "<matplotlib.legend.Legend at 0x7f1bf25158d0>"
      ]
     },
     "execution_count": 453,
     "metadata": {},
     "output_type": "execute_result"
    },
    {
     "data": {
      "image/png": "[encoded data removed]",
      "text/plain": [
       "<matplotlib.figure.Figure at 0x7f1bf26296d8>"
      ]
     },
     "metadata": {},
     "output_type": "display_data"
    }
   ],
   "source": [
    "plt.figure(figsize=(8, 6))\n",
    "plt.plot(x_test, y_test,'ro', color='blue', label='test dots')\n",
    "plt.plot(x_test, list(map(lambda x: x * k_ + b_, x_test)), color='red', label='result function')\n",
    "plt.legend()"
   ]
  },
  {
   "cell_type": "markdown",
   "metadata": {
    "deletable": true,
    "editable": true
   },
   "source": [
    "Для $k = 1,2,3,\\ldots,10$ найдите многочлен $\\hat{f}_k$ степени $k$, наилучшим образом приближающий неизвестную зависимость. Для каждого из них найдите среднеквадратическую ошибку на обучающих данных и на тестовых данных: $\\frac1{n}\\sum_{i=1}^n\\left( \\hat{f}_k(x_i) - y_i \\right)^2$ (в первом случае сумма ведётся по парам $(x_i, y_i)$ из обучающих данных, а во втором - по парам из тестовых данных).\n",
    "\n",
    "Для $k = 1,2,3,4,6$ напечатайте коэффициенты полученных многочленов и нарисуйте их графики на одном чертеже вместе с точками $(x_i, y_i)$ (возможно, график стоит сделать побольше; это делается командой `plt.figure(figsize=(width, height))`)."
   ]
  },
  {
   "cell_type": "markdown",
   "metadata": {},
   "source": [
    "## При выводе все вычисления округляются до epselen-цифр после запятой\n",
    "## Введите eplesen в следующей строке(по умолчанию там стоит 6)"
   ]
  },
  {
   "cell_type": "code",
   "execution_count": 454,
   "metadata": {
    "collapsed": true
   },
   "outputs": [],
   "source": [
    "epselen = 6"
   ]
  },
  {
   "cell_type": "code",
   "execution_count": 455,
   "metadata": {
    "collapsed": false,
    "deletable": true,
    "editable": true,
    "scrolled": false
   },
   "outputs": [],
   "source": [
    "coefficients = list([])\n",
    "mean_square_error_train = list([])\n",
    "def make_polynomial_matrix(k, x_t):\n",
    "    X = np.array(list([]))\n",
    "    for i in range(k + 1):\n",
    "        if i == 0:\n",
    "            X = np.ones(len(x_t)).reshape(len(x_t), 1)\n",
    "            continue\n",
    "        X = np.concatenate(((X[:, 0] * x_t).reshape(len(x_t), 1), X), axis=1)\n",
    "    return X\n",
    "    \n",
    "for k in range(1, 11):\n",
    "    X = make_polynomial_matrix(k, x_train)\n",
    "    coefficients.append(get_vector(X, y).reshape(k + 1))\n",
    "    mean_square_error_train.append(\n",
    "    sum(\n",
    "        map(\n",
    "            lambda x: x**2,\n",
    "            (X.dot(coefficients[k - 1].reshape(X.shape[1], 1)) - y_train.reshape(len(y_train), 1)).reshape(len(y_train))\n",
    "           )\n",
    "       ) / len(y_train)\n",
    "    )\n",
    "coefficients_polynoms = coefficients\n",
    "mean_square_error_test = list([])\n",
    "for k in range(1, 11):\n",
    "    X = np.array(list([]))\n",
    "    for i in range(k + 1):\n",
    "        if i == 0:\n",
    "            X = np.ones(len(x_test)).reshape(len(x_test), 1)\n",
    "            continue\n",
    "        X = np.concatenate(((X[:, 0] * x_test).reshape(len(x_test), 1), X), axis=1)\n",
    "    mean_square_error_test.append(error(X, coefficients[k - 1], y_test))\n"
   ]
  },
  {
   "cell_type": "markdown",
   "metadata": {},
   "source": [
    "## Вывод прогешностей:"
   ]
  },
  {
   "cell_type": "code",
   "execution_count": 456,
   "metadata": {
    "collapsed": false
   },
   "outputs": [
    {
     "name": "stdout",
     "output_type": "stream",
     "text": [
      "1-ая степень: \n",
      "\tПогрешность train: 0.296897\n",
      "\tПогрешность test: 0.43512\n",
      "2-ая степень: \n",
      "\tПогрешность train: 0.269699\n",
      "\tПогрешность test: 0.356476\n",
      "3-ая степень: \n",
      "\tПогрешность train: 0.269497\n",
      "\tПогрешность test: 0.355346\n",
      "4-ая степень: \n",
      "\tПогрешность train: 0.261067\n",
      "\tПогрешность test: 0.441727\n",
      "5-ая степень: \n",
      "\tПогрешность train: 0.249985\n",
      "\tПогрешность test: 0.557973\n",
      "6-ая степень: \n",
      "\tПогрешность train: 0.188293\n",
      "\tПогрешность test: 2.581693\n",
      "7-ая степень: \n",
      "\tПогрешность train: 0.185396\n",
      "\tПогрешность test: 2.515783\n",
      "8-ая степень: \n",
      "\tПогрешность train: 0.159056\n",
      "\tПогрешность test: 4.357289\n",
      "9-ая степень: \n",
      "\tПогрешность train: 0.158472\n",
      "\tПогрешность test: 4.776334\n",
      "10-ая степень: \n",
      "\tПогрешность train: 0.153166\n",
      "\tПогрешность test: 14.632796\n"
     ]
    }
   ],
   "source": [
    "# Для вывода создадим массив с округленным коэффициентами для красоты\n",
    "rounded_coefficients = coefficients\n",
    "for i in range(len(rounded_coefficients)):\n",
    "    for j in range(len(rounded_coefficients[i])):\n",
    "        rounded_coefficients[i][j] = round(rounded_coefficients[i][j], epselen)\n",
    "# А так же для удобства округлим и погрешности\n",
    "for i in range(1, 11):\n",
    "    print(i, '-ая степень: ', sep='')\n",
    "    print('\\tПогрешность train: ', round(mean_square_error_train[i - 1], epselen), sep='')\n",
    "    print('\\tПогрешность test: ', round(mean_square_error_test[i - 1], epselen), sep='')"
   ]
  },
  {
   "cell_type": "markdown",
   "metadata": {},
   "source": [
    "## Вывод коэфициентов"
   ]
  },
  {
   "cell_type": "code",
   "execution_count": 457,
   "metadata": {
    "collapsed": false
   },
   "outputs": [
    {
     "name": "stdout",
     "output_type": "stream",
     "text": [
      "1-ая степень: [2.279134, 4.433231]\n",
      "2-ая степень: [1.401629, 1.157832, 4.472477]\n",
      "3-ая степень: [-0.381769, 1.859751, 1.065016, 4.460736]\n",
      "4-ая степень: [7.918475, -13.051328, 6.794092, 1.171802, 4.341166]\n",
      "5-ая степень: [29.524978, -51.131481, 21.374796, 3.274714, -0.130598, 4.431298]\n",
      "6-ая степень: [-229.970133, 581.453298, -481.510133, 121.257097, 16.002904, -4.597179, 4.383795]\n"
     ]
    }
   ],
   "source": [
    "for i in range(1, 7):\n",
    "    print(i, '-ая степень: ', rounded_coefficients[i - 1].tolist(), sep='')"
   ]
  },
  {
   "cell_type": "code",
   "execution_count": 458,
   "metadata": {
    "collapsed": false,
    "scrolled": false
   },
   "outputs": [
    {
     "data": {
      "text/plain": [
       "<matplotlib.legend.Legend at 0x7f1bf24b7668>"
      ]
     },
     "execution_count": 458,
     "metadata": {},
     "output_type": "execute_result"
    },
    {
     "data": {
      "image/png": "[encoded data removed]",
      "text/plain": [
       "<matplotlib.figure.Figure at 0x7f1bf24d6eb8>"
      ]
     },
     "metadata": {},
     "output_type": "display_data"
    }
   ],
   "source": [
    "plt.figure(figsize=(15, 12))\n",
    "plt.plot(x_train, y_train, 'ro', color='blue', label='train dots')\n",
    "for i in range(1, 7):\n",
    "    y_polynom = {}\n",
    "    y_value = list([])\n",
    "    x_ = min(x_train) - 0.1\n",
    "    x_value = list([])\n",
    "    while x_ < max(x_train) + 0.1:\n",
    "        x_value.append(x_)\n",
    "        y_polynom[x_] = 0\n",
    "        for j in range(0, i + 1):\n",
    "            y_polynom[x_] += x_**j * coefficients[i - 1][-(j + 1)]\n",
    "        y_value.append(y_polynom[x_])\n",
    "        x_ += 0.001\n",
    "    plt.plot(x_value, y_value, label='polynom '+str(i))\n",
    "plt.legend()"
   ]
  },
  {
   "cell_type": "markdown",
   "metadata": {},
   "source": [
    "Как видим из вычислений самая маленькая погрешность на тестовых точках у многочлена 3-й степени. Поэтому построим график с ним и тестовыми точками."
   ]
  },
  {
   "cell_type": "code",
   "execution_count": 459,
   "metadata": {
    "collapsed": false
   },
   "outputs": [
    {
     "data": {
      "text/plain": [
       "<matplotlib.legend.Legend at 0x7f1bf2390710>"
      ]
     },
     "execution_count": 459,
     "metadata": {},
     "output_type": "execute_result"
    },
    {
     "data": {
      "image/png": "[encoded data removed]",
      "text/plain": [
       "<matplotlib.figure.Figure at 0x7f1bf2475c88>"
      ]
     },
     "metadata": {},
     "output_type": "display_data"
    }
   ],
   "source": [
    "plt.figure(figsize=(10, 8))\n",
    "plt.plot(x_test, y_test, 'ro', color='blue', label='test dots')\n",
    "for i in range(3, 4):\n",
    "    y_polynom = {}\n",
    "    y_value = list([])\n",
    "    x_ = min(x_test)\n",
    "    x_value = list([])\n",
    "    while x_ < max(x_test):\n",
    "        x_value.append(x_)\n",
    "        y_polynom[x_] = 0\n",
    "        for j in range(0, i + 1):\n",
    "            y_polynom[x_] += x_**j * coefficients[i - 1][-(j + 1)]\n",
    "        y_value.append(y_polynom[x_])\n",
    "        x_ += 0.001\n",
    "    plt.plot(x_value, y_value, color='red')\n",
    "plt.legend()"
   ]
  },
  {
   "cell_type": "markdown",
   "metadata": {
    "deletable": true,
    "editable": true
   },
   "source": [
    "Что происходит с ошибкой при росте степени многочлена? Казалось бы, чем больше степень, тем более сложным будет многочлен и тем лучше он будет приближать нашу функцию. Подтверждают ли это ваши наблюдения? Как вам кажется, чем объясняется поведение ошибки на тестовых данных при $k = 10$?"
   ]
  },
  {
   "cell_type": "markdown",
   "metadata": {
    "collapsed": true,
    "deletable": true,
    "editable": true
   },
   "source": [
    "Изначально мы строим функцию $f(x)$ по тренировочным данным, которые даже в нашем примере лежат на узком отрезке. Как мы знаем многочлен большей степени растет быстрее многочлена меньшей. Поэтому на данных, выходящих за предел тренировочных данных мы получаем болльшую погрешность.\n",
    "Например для данных:\n",
    "\\begin{array}{cc}\n",
    "x & y \\\\\n",
    "0 & 0\\\\\n",
    "1 & 1\n",
    "\\end{array}\n",
    "Можно подобрать хоть многочлен 100-й степени: $f(x) = x^{100}$. Но если в тестовые данные добавить тест \\begin{array}{cc}\n",
    "x & y \\\\\n",
    "2 & 2 \\\\\n",
    "3 & 3\n",
    "\\end{array}, то погрешность будет огромной, так как $2^{100} = (2^{10})^{10} = 10^{30}$. Для таких данных правильным ответом будет $f(x) = x$"
   ]
  },
  {
   "cell_type": "markdown",
   "metadata": {
    "deletable": true,
    "editable": true
   },
   "source": [
    "### Задание 2. Линейная регрессия (4 балла)"
   ]
  },
  {
   "cell_type": "markdown",
   "metadata": {
    "deletable": true,
    "editable": true
   },
   "source": [
    "Скачайте файлы ``flats_moscow_mod.txt`` и ``flats_moscow_description.txt``. В первом из них содержатся данные о квартирах в Москве. Каждая строка содержит шесть характеристик некоторой квартиры, разделённые знаками табуляции; в первой строке записаны кодовые названия характеристик. Во втором файле приведены краткие описания признаков. Вашей задачей будет построить с помощью метода наименьших квадратов (линейную) зависимость между ценой квартиры и остальными доступными параметрами.\n",
    "\n",
    "С помощью известных вам формул найдите регрессионные коэффициенты. Какой смысл имеют их знаки? Согласуются ли они с вашими представлениями о жизни?\n",
    "\n",
    "Оцените качество приближения, вычислив среднеквадратическую ошибку."
   ]
  },
  {
   "cell_type": "code",
   "execution_count": 460,
   "metadata": {
    "collapsed": false,
    "deletable": true,
    "editable": true
   },
   "outputs": [],
   "source": [
    "flats_data = np.loadtxt('flats_moscow_mod.txt', delimiter='\\t', skiprows=1)\n",
    "price = flats_data[:, 0]\n"
   ]
  },
  {
   "cell_type": "code",
   "execution_count": 461,
   "metadata": {
    "collapsed": false,
    "scrolled": true
   },
   "outputs": [
    {
     "name": "stdout",
     "output_type": "stream",
     "text": [
      "Коэфицииенты: \n",
      "\t[1.487053, 1.656289, 1.819205, -3.327154, -1.315689, -26.78927]\n",
      "Погрешность:\n",
      "\t924.009003208\n"
     ]
    }
   ],
   "source": [
    "n = len(price)\n",
    "X = np.concatenate((flats_data[:, 1:]\n",
    "                    , np.ones(n).reshape(n, 1)\n",
    "                   ) , axis=1\n",
    "                  )\n",
    "coefficients = get_vector(X, price).reshape(6)\n",
    "print('Коэфицииенты: ', end='\\n\\t')\n",
    "print([round(x, epselen) for x in coefficients.tolist()], sep='')\n",
    "print('Погрешность:', end='\\n\\t')\n",
    "print(error(X, coefficients, price))"
   ]
  },
  {
   "cell_type": "markdown",
   "metadata": {},
   "source": [
    "Очевидно, что если знак положительный, то цена выше с ростом данного критерия, а если отрицательный, то цена падает. В принципе все как в жизни. Чем дальше от метро и от центра, тем дешевле. Есдинственный момент с площадью кухни меня удивил.\n"
   ]
  },
  {
   "cell_type": "markdown",
   "metadata": {
    "collapsed": true,
    "deletable": true,
    "editable": true
   },
   "source": [
    "### Усложнение модели"
   ]
  },
  {
   "cell_type": "markdown",
   "metadata": {
    "deletable": true,
    "editable": true
   },
   "source": [
    "Конечно, никто не гарантирует, что объясняемая переменная (цена квартиры) зависит от остальных характеристик именно линейно. Зависимость может быть, например, квадратичной или логарифмической; больше того, могут быть важны не только отдельные признаки, но и их комбинации. Это можно учитывать, добавляя в качестве дополнительных признаков разные функции от уже имеющихся характеристик: их квадраты, логарифмы, попарные произведения.\n",
    "\n",
    "В этом задании вам нужно постараться улучшить качество модели, добавляя дополнительные признаки, являющиеся функциями от уже имеющихся. Но будьте осторожны: чрезмерное усложнение модели будет приводить к переобучению. \n",
    "\n",
    "**Сравнение моделей**\n",
    "\n",
    "Когда вы построите новую модель, вам захочется понять, лучше она или хуже, чем изначальная. Проверять это на той же выборке, на которой вы обучались, бессмысленно и даже вредно (вспомните пример с многочленами: как прекрасно падала ошибка на обучающей выборке с ростом степени!). Поэтому вам нужно будет разделить выборку на обучающую и тестовую. Делать это лучше случайным образом (ведь вы не знаете, как создатели датасета упорядочили объекты); рекомендуем вам для этого функцию `sklearn.model_selection.train_test_split`."
   ]
  },
  {
   "cell_type": "code",
   "execution_count": 462,
   "metadata": {
    "collapsed": false,
    "deletable": true,
    "editable": true
   },
   "outputs": [
    {
     "name": "stdout",
     "output_type": "stream",
     "text": [
      "Для квадратов:\n",
      "\tmean square error on test = 830.391407989\n",
      "Для логарифмов:\n",
      "\tmean square error on test = 872.378341012\n",
      "Для попарных произведений:\n",
      "\tmean square error on test = 906.916772663\n"
     ]
    }
   ],
   "source": [
    "from sklearn.model_selection import train_test_split\n",
    "x_data = flats_data[:, 1:]\n",
    "y_data = flats_data[:, 0]\n",
    "x_train, x_test, y_train, y_test = train_test_split(x_data, y_data, test_size=0.5, random_state=42)\n",
    "n = len(y_train)\n",
    "# дополнительный признак: квадраты\n",
    "def square_matrix(x_t):\n",
    "    return np.concatenate((x_t**2, x_t, np.ones(n).reshape(n, 1)), axis=1)\n",
    "coefficients = get_vector(square_matrix(x_train), y_train)\n",
    "print('Для квадратов:', end='\\n\\t')\n",
    "print('mean square error on test =', error(square_matrix(x_test), coefficients, y_test))\n",
    "\n",
    "# дополнтельный признак: логарифмы\n",
    "def ln_matrix(x_t):\n",
    "    return np.concatenate((np.log(x_t), x_t, np.ones(n).reshape(n, 1)), axis=1)\n",
    "coefficients = get_vector(ln_matrix(x_train), y_train)\n",
    "print('Для логарифмов:', end='\\n\\t')\n",
    "print('mean square error on test =', error(ln_matrix(x_test), coefficients, y_test))\n",
    "\n",
    "# дополнительный признак: попарные произведения (без квадратов)\n",
    "def pairs_matrix(x_t):\n",
    "    X = np.concatenate((x_t, np.ones(n).reshape(n, 1)), axis=1)\n",
    "    for i in range(x_t.shape[1]):\n",
    "        for j in range(i + 1, x_t.shape[1]):\n",
    "            X = np.concatenate(((x_t[:, i] * x_t[:, j]).reshape(n, 1), X), axis=1)\n",
    "    return X\n",
    "coefficients = get_vector(pairs_matrix(x_train), y_train)\n",
    "print('Для попарных произведений:', end='\\n\\t')\n",
    "print('mean square error on test =', error(pairs_matrix(x_test), coefficients, y_test))"
   ]
  },
  {
   "cell_type": "markdown",
   "metadata": {
    "deletable": true,
    "editable": true
   },
   "source": [
    "### Задание 3. Регуляризация (2 балла)"
   ]
  },
  {
   "cell_type": "markdown",
   "metadata": {
    "deletable": true,
    "editable": true
   },
   "source": [
    "Вспомним, что задача линейной регрессии формулируется как задача нахождения проекции вектора значений объясняемой переменной $y$ на линейную оболочку $\\langle x_1,\\ldots,x_k\\rangle$ векторов значений регрессоров. Если векторы $x_1,\\ldots,x_k$ линейно зависимы, то матрица $X^TX$ вырожденна и задача не будет решаться (то есть будет, но не с помощью приведённой выше формулы). В жизни, по счастью, различные признаки редко бывают *в точности* линейно зависимы, однако во многих ситуациях они скоррелированы и становятся \"почти\" линейно зависимыми. Таковы, к примеру, зарплата человека, его уровень образования, цена машины и суммарная площадь недвижимости, которой он владеет. В этом случае матрица $X^TX$ будет близка к вырожденной, и это приводит к численной неустойчивости и плохому качеству решений; как следствие, будет иметь место переобучение. Один из симптомов этой проблемы - необычно большие по модулю компоненты вектора $a$.\n",
    "\n",
    "Есть много способов борьбы с этим злом. Один из них - регуляризация. Сейчас мы рассмотрим одну из её разновидностей --- L2-регуляризацию. Идея в том, чтобы подправить матрицу $X^TX$, сделав её \"получше\". Например, это можно сделать, заменив её на $(X^TX + \\lambda E)$, где $\\lambda$ --- некоторый скаляр. Пожертвовав точностью на обучающей выборке, мы тем не менее получаем численно более стабильное псевдорешение $a = (X^TX + \\lambda E)^{-1}X^Ty$ и снижаем эффект переобучения. Параметр $\\lambda$ нужно подбирать, и каких-то универсальных способов это делать нет, но зачастую можно его подобрать таким, чтобы ошибка на тестовой выборке падала. "
   ]
  },
  {
   "cell_type": "markdown",
   "metadata": {
    "deletable": true,
    "editable": true
   },
   "source": [
    "Теперь давайте вспомним первую задачу. Если вы её сделали, то помните, что ошибка аппроксимации многочленом шестой степени довольно высокая. Убедитесь, что, используя регуляризацию с хорошо подобранным коэффициентом $\\lambda$, ошибку на тестовой выборке можно сделать не больше, чем для многочлена оптимальной степени в модели без регрессии. Для этого $\\lambda$ сравните $\\det(X^TX)$ и $\\det(X^TX + \\lambda E)$."
   ]
  },
  {
   "cell_type": "code",
   "execution_count": 497,
   "metadata": {
    "collapsed": false,
    "deletable": true,
    "editable": true
   },
   "outputs": [
    {
     "name": "stdout",
     "output_type": "stream",
     "text": [
      "(-15.001, 75.98811822109279)\n",
      "(0, 1.7716661172538843)\n"
     ]
    }
   ],
   "source": [
    "def get_vector_L2(X, y, lamb):\n",
    "    return np.linalg.inv(X.T.dot(X) + lamb * np.ones((X.shape[1], X.shape[1]))).dot(X.T).dot(y.reshape(len(y), 1))\n",
    "y_train = data_train[:, 1]\n",
    "\n",
    "x_test = data_test[:, 0]\n",
    "y_test = data_test[:, 1]\n",
    "\n",
    "X = make_polynomial_matrix(6, x_train)\n",
    "X_t = make_polynomial_matrix(6, x_test)\n",
    "\n",
    "lamb = -15.001\n",
    "best_solution = lamb, error(X_t, get_vector_L2(X, y_train, lamb), y_test)\n",
    "errors = {}\n",
    "print(best_solution)\n",
    "\n",
    "while lamb < 15:\n",
    "    if best_solution[1] > error(X_t, get_vector_L2(X, y_train, lamb), y_test):\n",
    "        best_solution = labm, error(X_t, get_vector_L2(X, y_train, lamb), y_test)\n",
    "    lamb += 0.1\n",
    "print(best_solution)"
   ]
  },
  {
   "cell_type": "markdown",
   "metadata": {
    "deletable": true,
    "editable": true
   },
   "source": [
    "Нарисуйте на одном чертеже графики многочленов шестой степени, приближающих неизвестную функцию, для модели с регуляризацией и без. Чем первый из них выгодно отличается от второго?"
   ]
  },
  {
   "cell_type": "code",
   "execution_count": null,
   "metadata": {
    "collapsed": true,
    "deletable": true,
    "editable": true
   },
   "outputs": [],
   "source": []
  },
  {
   "cell_type": "markdown",
   "metadata": {
    "deletable": true,
    "editable": true
   },
   "source": [
    "Попробуйте доказать, что вектор $a = (X^TX + \\lambda E)^{-1}X^Ty$ является решением задачи\n",
    "\n",
    "$$|Xa - y|^2 + \\lambda|a|^2\\rightarrow\\min$$\n",
    "\n",
    "Интуитивно это можно понимать так: мы ищем компромисс между минимизацией длины разности $|Xa - y|$ (то есть точностью решения задачи регрессии) и тем, чтобы компоненты вектора $a$ не становились слишком большими по модулю.\n",
    "\n",
    "---\n",
    "\n",
    "**Ваше решение**"
   ]
  }
 ],
 "metadata": {
  "anaconda-cloud": {},
  "kernelspec": {
   "display_name": "Python 3",
   "language": "python",
   "name": "python3"
  },
  "language_info": {
   "codemirror_mode": {
    "name": "ipython",
    "version": 3
   },
   "file_extension": ".py",
   "mimetype": "text/x-python",
   "name": "python",
   "nbconvert_exporter": "python",
   "pygments_lexer": "ipython3",
   "version": "3.6.0"
  }
 },
 "nbformat": 4,
 "nbformat_minor": 0
}
